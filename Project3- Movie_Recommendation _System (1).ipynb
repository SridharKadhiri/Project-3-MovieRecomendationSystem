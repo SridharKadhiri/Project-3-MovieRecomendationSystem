{
 "cells": [
  {
   "cell_type": "markdown",
   "id": "ee7a6e51",
   "metadata": {},
   "source": [
    "# Movie Recommendation System"
   ]
  },
  {
   "cell_type": "markdown",
   "id": "90e84788",
   "metadata": {},
   "source": [
    "### Objective : to create a movie recommendation system "
   ]
  },
  {
   "cell_type": "markdown",
   "id": "0a44eb88",
   "metadata": {},
   "source": [
    "#### Import required librries"
   ]
  },
  {
   "cell_type": "code",
   "execution_count": null,
   "id": "c76ee9dc",
   "metadata": {},
   "outputs": [],
   "source": [
    "import numpy as np\n",
    "import pandas as pd"
   ]
  },
  {
   "cell_type": "code",
   "execution_count": null,
   "id": "ff786a11",
   "metadata": {},
   "outputs": [],
   "source": [
    "df = pd.read_csv('cleaned_df.csv')"
   ]
  },
  {
   "cell_type": "code",
   "execution_count": null,
   "id": "cb76ca9d",
   "metadata": {},
   "outputs": [],
   "source": [
    "\n",
    "df.head(60)\n"
   ]
  },
  {
   "cell_type": "code",
   "execution_count": null,
   "id": "5d3bdfbf",
   "metadata": {},
   "outputs": [],
   "source": [
    "df.shape"
   ]
  },
  {
   "cell_type": "code",
   "execution_count": null,
   "id": "917e7e43",
   "metadata": {},
   "outputs": [],
   "source": [
    "df.tail(10)"
   ]
  },
  {
   "cell_type": "code",
   "execution_count": null,
   "id": "a52a0598",
   "metadata": {},
   "outputs": [],
   "source": [
    "df.describe()"
   ]
  },
  {
   "cell_type": "code",
   "execution_count": null,
   "id": "51ce8c2e",
   "metadata": {},
   "outputs": [],
   "source": [
    "df.info()"
   ]
  },
  {
   "cell_type": "code",
   "execution_count": null,
   "id": "0f09b941",
   "metadata": {},
   "outputs": [],
   "source": [
    "df.isnull().sum()"
   ]
  },
  {
   "cell_type": "code",
   "execution_count": null,
   "id": "70bdc740",
   "metadata": {},
   "outputs": [],
   "source": [
    "# select the features \n",
    "new_feature = ['genres','keywords','tagline','director']\n",
    "print(new_feature)"
   ]
  },
  {
   "cell_type": "code",
   "execution_count": null,
   "id": "f370b4e6",
   "metadata": {},
   "outputs": [],
   "source": [
    "# replacing null values with null string\n",
    "for feature in new_feature:\n",
    "    df[feature] = df[feature].fillna('')"
   ]
  },
  {
   "cell_type": "code",
   "execution_count": null,
   "id": "0dab96c4",
   "metadata": {},
   "outputs": [],
   "source": [
    "# new_feature.isnull().sum()"
   ]
  },
  {
   "cell_type": "code",
   "execution_count": null,
   "id": "208e3ebb",
   "metadata": {},
   "outputs": [],
   "source": [
    "new_feature"
   ]
  },
  {
   "cell_type": "code",
   "execution_count": null,
   "id": "101545ba",
   "metadata": {},
   "outputs": [],
   "source": [
    "# combining all selected features\n",
    "new_feature = df['genres']+' '+df['keywords']+' '+df['tagline']+' '+df['director']"
   ]
  },
  {
   "cell_type": "code",
   "execution_count": null,
   "id": "cb5e98f4",
   "metadata": {},
   "outputs": [],
   "source": [
    "print(new_feature)"
   ]
  },
  {
   "cell_type": "code",
   "execution_count": null,
   "id": "9ae28bfe",
   "metadata": {},
   "outputs": [],
   "source": [
    "# converting the text data to feature vectors\n",
    "\n",
    "from sklearn.feature_extraction.text import TfidfVectorizer\n",
    "\n",
    "vectorizer = TfidfVectorizer()"
   ]
  },
  {
   "cell_type": "code",
   "execution_count": null,
   "id": "7db5ce85",
   "metadata": {},
   "outputs": [],
   "source": [
    "feature_vectors = vectorizer.fit_transform(new_feature)"
   ]
  },
  {
   "cell_type": "code",
   "execution_count": null,
   "id": "90a3de1d",
   "metadata": {},
   "outputs": [],
   "source": [
    "print(feature_vectors)"
   ]
  },
  {
   "cell_type": "markdown",
   "id": "55d8eb10",
   "metadata": {},
   "source": [
    "## To build Recommendation System"
   ]
  },
  {
   "cell_type": "markdown",
   "id": "fa349b1c",
   "metadata": {},
   "source": [
    "# i)"
   ]
  },
  {
   "cell_type": "markdown",
   "id": "8e2ade47",
   "metadata": {},
   "source": [
    "## Cosine Similarities"
   ]
  },
  {
   "cell_type": "code",
   "execution_count": null,
   "id": "f2c9227d",
   "metadata": {},
   "outputs": [],
   "source": [
    "import difflib\n",
    "from sklearn.feature_extraction.text import TfidfVectorizer\n",
    "from sklearn.metrics.pairwise import cosine_similarity"
   ]
  },
  {
   "cell_type": "code",
   "execution_count": null,
   "id": "185f4a40",
   "metadata": {},
   "outputs": [],
   "source": [
    "# getting the similarity scores using cosine similarity\n",
    "\n",
    "similarity = cosine_similarity(feature_vectors)"
   ]
  },
  {
   "cell_type": "code",
   "execution_count": null,
   "id": "90d1829e",
   "metadata": {},
   "outputs": [],
   "source": [
    "print(similarity)"
   ]
  },
  {
   "cell_type": "code",
   "execution_count": null,
   "id": "3bfb1d0f",
   "metadata": {},
   "outputs": [],
   "source": [
    "print(similarity.shape)"
   ]
  },
  {
   "cell_type": "code",
   "execution_count": null,
   "id": "8790d9f4",
   "metadata": {},
   "outputs": [],
   "source": [
    "# getting the movie name from the user\n",
    "\n",
    "movie_name = input(' Enter your favourite movie name : ')"
   ]
  },
  {
   "cell_type": "code",
   "execution_count": null,
   "id": "1e669e91",
   "metadata": {},
   "outputs": [],
   "source": [
    "# creating a list with all the movie names given in the dataset\n",
    "\n",
    "list_of_all_titles = df['title'].tolist()\n",
    "# print(list_of_all_titles)"
   ]
  },
  {
   "cell_type": "code",
   "execution_count": null,
   "id": "eb40847b",
   "metadata": {},
   "outputs": [],
   "source": [
    "# finding the close match for the movie name given by the user\n",
    "\n",
    "find_close_match = difflib.get_close_matches(movie_name, list_of_all_titles)\n",
    "print(find_close_match)"
   ]
  },
  {
   "cell_type": "code",
   "execution_count": null,
   "id": "286bb962",
   "metadata": {},
   "outputs": [],
   "source": [
    "close_match = find_close_match[0]\n",
    "print(close_match)"
   ]
  },
  {
   "cell_type": "code",
   "execution_count": null,
   "id": "ebe69294",
   "metadata": {},
   "outputs": [],
   "source": [
    "# finding the index of the movie with title\n",
    "\n",
    "index_of_the_movie = df[df.title == close_match]['index'].values[0]\n",
    "print(index_of_the_movie)"
   ]
  },
  {
   "cell_type": "code",
   "execution_count": null,
   "id": "7f7d1fe4",
   "metadata": {},
   "outputs": [],
   "source": [
    "# getting a list of similar movies\n",
    "\n",
    "similarity_score = list(enumerate(similarity[index_of_the_movie]))\n",
    "# print(similarity_score)"
   ]
  },
  {
   "cell_type": "code",
   "execution_count": null,
   "id": "88db5e04",
   "metadata": {},
   "outputs": [],
   "source": [
    "len(similarity_score)"
   ]
  },
  {
   "cell_type": "code",
   "execution_count": null,
   "id": "276d8eaa",
   "metadata": {},
   "outputs": [],
   "source": [
    "#  sorting the movies based on their similarity score\n",
    "\n",
    "sorted_similar_movies = sorted(similarity_score, key = lambda x:x[1],reverse=True)\n",
    "# print(sorted_similar_movies)"
   ]
  },
  {
   "cell_type": "code",
   "execution_count": null,
   "id": "37d25789-6f39-4d0e-8adb-aa8da8220f3c",
   "metadata": {},
   "outputs": [],
   "source": [
    "df.isnull"
   ]
  },
  {
   "cell_type": "code",
   "execution_count": null,
   "id": "acff4c5a-9ed5-4d4c-8bc3-4e59ea622d20",
   "metadata": {},
   "outputs": [],
   "source": [
    "print('Movies suggested for you : \\n')\n",
    "\n",
    "i = 1\n",
    "\n",
    "for movie in sorted_similar_movies:\n",
    "  index = movie[0]\n",
    "  title_from_index = df[df.index==index]['title'].values[0]\n",
    "  if (i<25):\n",
    "    print(i, '.',title_from_index)\n",
    "    i+=1\n",
    "    \n",
    "    "
   ]
  },
  {
   "cell_type": "markdown",
   "id": "fb9954a2",
   "metadata": {},
   "source": [
    "### Recommendation System"
   ]
  },
  {
   "cell_type": "code",
   "execution_count": null,
   "id": "8f881e02",
   "metadata": {},
   "outputs": [],
   "source": [
    "movie_name = input(' Enter your favourite movie name : ')\n",
    "\n",
    "list_of_all_titles = df['title'].tolist()\n",
    "\n",
    "find_close_match = difflib.get_close_matches(movie_name, list_of_all_titles)\n",
    "\n",
    "close_match = find_close_match[0]\n",
    "\n",
    "index_of_the_movie = df[df.title == close_match]['index'].values[0]\n",
    "\n",
    "similarity_score = list(enumerate(similarity[index_of_the_movie]))\n",
    "\n",
    "sorted_similar_movies = sorted(similarity_score, key = lambda x:x[1], reverse = True)\n",
    "\n",
    "print('Movies suggested for you : \\n')\n",
    "\n",
    "i = 1\n",
    "\n",
    "for movie in sorted_similar_movies:\n",
    "  index = movie[0]\n",
    "  title_from_index = df[df.index==index]['title'].values[0] #df[a][b]\n",
    "  if (i<11):\n",
    "    print(i, '.',title_from_index)\n",
    "    i+=1"
   ]
  },
  {
   "cell_type": "markdown",
   "id": "57a332cb",
   "metadata": {},
   "source": [
    "### Conlclusion :\n",
    "The result is a list of recommended movies that are considered similar to the user's favorite movie, with the most similar ones appearing at the top of the list. The number of recommendations displayed is limited to the first 30 similar movies. The user can explore these recommendations to find movies that align with their preferences based on the similarity metric used."
   ]
  },
  {
   "cell_type": "code",
   "execution_count": null,
   "id": "709b2bb4",
   "metadata": {},
   "outputs": [],
   "source": [
    "df.columns"
   ]
  },
  {
   "cell_type": "markdown",
   "id": "f8a810c9",
   "metadata": {},
   "source": [
    "# ii)"
   ]
  },
  {
   "cell_type": "code",
   "execution_count": null,
   "id": "5e85dadc",
   "metadata": {},
   "outputs": [],
   "source": [
    "# from surprise import Dataset, Reader, SVD\n",
    "# from surprise.model_selection import train_test_split\n",
    "# from surprise import accuracy"
   ]
  },
  {
   "cell_type": "code",
   "execution_count": null,
   "id": "cb059525",
   "metadata": {},
   "outputs": [],
   "source": [
    "# Create a Surprise Reader object to specify the rating scale (e.g., from 1 to 5).\n",
    "reader = Reader(rating_scale=(1, 5))\n",
    "\n",
    "# Load the data into a Surprise Dataset object.\n",
    "data = Dataset.load_from_df(data[['index', 'id', 'vote_average']], reader)\n",
    "\n",
    "# Split the data into training and testing sets (80% for training, 20% for testing).\n",
    "trainset, testset = train_test_split(data, test_size=0.2, random_state=42)\n",
    "\n",
    "# Initialize the SVD algorithm (you can tune hyperparameters here).\n",
    "model = SVD(n_factors=100, n_epochs=20, random_state=42)\n",
    "\n",
    "# Fit the model on the training data.\n",
    "model.fit(trainset)\n",
    "\n",
    "# Make predictions on the test set.\n",
    "predictions = model.test(testset)\n",
    "\n",
    "# Calculate RMSE (Root Mean Squared Error) as an evaluation metric.\n",
    "rmse = accuracy.rmse(predictions)\n",
    "print(f'RMSE: {rmse}')\n",
    "\n",
    "# Let's make recommendations for a specific user (e.g., user with ID 1).\n",
    "user_id_to_recommend_to = 1\n",
    "movies_to_recommend = []\n",
    "\n",
    "# Get a list of all movie IDs.\n",
    "all_movie_ids = data.df['id'].unique()\n",
    "\n",
    "# For each movie ID, predict the rating the user would give and store it.\n",
    "for movie_id in all_movie_ids:\n",
    "    predicted_rating = model.predict(user_id_to_recommend_to, movie_id).est\n",
    "    movies_to_recommend.append((movie_id, predicted_rating))\n",
    "    \n",
    "# Sort the recommendations by predicted rating in descending order.\n",
    "movies_to_recommend.sort(key=lambda x: x[1], reverse=True)\n",
    "\n",
    "# Print the top N movie recommendations (e.g., top 10).\n",
    "top_n = 10\n",
    "print(f'Top {top_n} Movie Recommendations for User {user_id_to_recommend_to}:')\n",
    "for i, (movie_id, predicted_rating) in enumerate(movies_to_recommend[:top_n], start=1):\n",
    "    print(f'{i}. Movie ID: {movie_id}, Predicted Rating: {predicted_rating}')"
   ]
  },
  {
   "cell_type": "code",
   "execution_count": null,
   "id": "9235a6cb",
   "metadata": {},
   "outputs": [],
   "source": [
    "# Create a user-item matrix where rows represent users and columns represent movies.\n",
    "user_item_matrix = pd.pivot_table(df, values='vote_average', index='index', columns='id')"
   ]
  },
  {
   "cell_type": "code",
   "execution_count": null,
   "id": "d0ee8b0c",
   "metadata": {},
   "outputs": [],
   "source": [
    "# Fill missing values with 0 (assuming missing ratings mean no interaction).\n",
    "user_item_matrix = user_item_matrix.fillna(0)"
   ]
  },
  {
   "cell_type": "code",
   "execution_count": null,
   "id": "7a8f067d",
   "metadata": {},
   "outputs": [],
   "source": [
    "# Convert the user-item matrix to a NumPy array.\n",
    "user_item_matrix = user_item_matrix.values"
   ]
  },
  {
   "cell_type": "code",
   "execution_count": null,
   "id": "cab8c581",
   "metadata": {},
   "outputs": [],
   "source": [
    "# Calculate the similarity matrix (e.g., using Pearson correlation).\n",
    "similarity_matrix = np.corrcoef(user_item_matrix)"
   ]
  },
  {
   "cell_type": "code",
   "execution_count": null,
   "id": "5a7e8606",
   "metadata": {},
   "outputs": [],
   "source": [
    "# Define a function to get movie recommendations for a user.\n",
    "def get_recommendations(user_id, user_item_matrix, similarity_matrix, top_n=10):\n",
    "    user_ratings = user_item_matrix[user_id]\n",
    "    \n",
    "    # Find movies the user has not rated (rated as 0).\n",
    "    unrated_movies = np.where(user_ratings == 0)[0]\n",
    "    \n",
    "    # Calculate predicted ratings for unrated movies based on similar users' ratings.\n",
    "    predicted_ratings = np.dot(similarity_matrix[user_id], user_item_matrix)\n",
    "    \n",
    "    # Sort movies by predicted rating in descending order.\n",
    "    top_movie_indices = np.argsort(predicted_ratings)[::-1]\n",
    "    \n",
    "    # Filter out movies that the user has already rated.\n",
    "    top_movie_indices = [idx for idx in top_movie_indices if idx in unrated_movies]\n",
    "    \n",
    "    # Return the top N movie recommendations.\n",
    "    top_n_movies = top_movie_indices[:top_n]\n",
    "    return top_n_movies\n",
    "\n",
    "# Example usage: Get recommendations for a user (user with ID 1).\n",
    "user_id_to_recommend_to = 1\n",
    "recommendations = get_recommendations(user_id_to_recommend_to, user_item_matrix, similarity_matrix)\n",
    "print(f'Top 10 Movie Recommendations for User {user_id_to_recommend_to}:')\n",
    "print(recommendations)"
   ]
  },
  {
   "cell_type": "markdown",
   "id": "e78affe7",
   "metadata": {},
   "source": [
    "### Conclusion :\n",
    "The result of running the code is the list of indices of the top N movie recommendations for the specified user. This list of indices represents the movies that are most likely to be of interest to the user based on their past ratings and the ratings of similar users."
   ]
  },
  {
   "cell_type": "code",
   "execution_count": null,
   "id": "518da909-22c1-4855-9774-1db16c99f8af",
   "metadata": {},
   "outputs": [],
   "source": []
  }
 ],
 "metadata": {
  "kernelspec": {
   "display_name": "Python 3 (ipykernel)",
   "language": "python",
   "name": "python3"
  },
  "language_info": {
   "codemirror_mode": {
    "name": "ipython",
    "version": 3
   },
   "file_extension": ".py",
   "mimetype": "text/x-python",
   "name": "python",
   "nbconvert_exporter": "python",
   "pygments_lexer": "ipython3",
   "version": "3.9.7"
  }
 },
 "nbformat": 4,
 "nbformat_minor": 5
}
